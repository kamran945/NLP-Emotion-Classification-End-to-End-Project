{
 "cells": [
  {
   "cell_type": "code",
   "execution_count": 1,
   "metadata": {},
   "outputs": [
    {
     "data": {
      "text/plain": [
       "'f:\\\\GitHub\\\\NLP-Emotion-Classification-End-to-End-Project\\\\NLP-Emotion-Classification-End-to-End-Project\\\\research'"
      ]
     },
     "execution_count": 1,
     "metadata": {},
     "output_type": "execute_result"
    }
   ],
   "source": [
    "%pwd"
   ]
  },
  {
   "cell_type": "code",
   "execution_count": 2,
   "metadata": {},
   "outputs": [
    {
     "data": {
      "text/plain": [
       "'f:\\\\GitHub\\\\NLP-Emotion-Classification-End-to-End-Project\\\\NLP-Emotion-Classification-End-to-End-Project'"
      ]
     },
     "execution_count": 2,
     "metadata": {},
     "output_type": "execute_result"
    }
   ],
   "source": [
    "import os\n",
    "os.chdir(\"../\")\n",
    "%pwd"
   ]
  },
  {
   "cell_type": "code",
   "execution_count": 3,
   "metadata": {},
   "outputs": [],
   "source": [
    "from dataclasses import dataclass\n",
    "from pathlib import Path\n",
    "\n",
    "\n",
    "@dataclass(frozen=True)\n",
    "class DataValidationConfig:\n",
    "    root_dir: Path\n",
    "    data_ingestion_dir: Path\n",
    "    STATUS_FILE: str\n",
    "    REQUIRED_FILES: list"
   ]
  },
  {
   "cell_type": "code",
   "execution_count": 5,
   "metadata": {},
   "outputs": [],
   "source": [
    "from pathlib import Path\n",
    "\n",
    "from src.emotionClassification.constants import *\n",
    "from src.emotionClassification.utils.common import read_yaml_file, create_directories\n",
    "\n",
    "\n",
    "class ConfigurationManager:\n",
    "    \"\"\"\n",
    "    Class to manage the configuration parameters and initialize configurations.\n",
    "    \"\"\"\n",
    "\n",
    "    def __init__(\n",
    "        self,\n",
    "        config_file_path: Path = CONFIG_FILE_PATH,\n",
    "        params_file_path: Path = PARAMS_FILE_PATH,\n",
    "    ) -> None:\n",
    "        \"\"\"\n",
    "        Initialize the ConfigurationManager with the provided file paths.\n",
    "        \"\"\"\n",
    "\n",
    "        self.config = read_yaml_file(config_file_path)\n",
    "        self.params = read_yaml_file(params_file_path)\n",
    "\n",
    "        create_directories(filepath_list=[self.config.artifacts_root])\n",
    "\n",
    "    def get_data_validation_config(self) -> DataValidationConfig:\n",
    "        \"\"\"\n",
    "        Return the DataValidationConfig object initialized with the configuration parameters.\n",
    "        \"\"\"\n",
    "        config = self.config.data_validation\n",
    "\n",
    "        create_directories([config.root_dir])\n",
    "\n",
    "        return DataValidationConfig(\n",
    "            root_dir=config.root_dir,\n",
    "            data_ingestion_dir=config.data_ingestion_dir,\n",
    "            STATUS_FILE=config.STATUS_FILE,\n",
    "            REQUIRED_FILES=config.REQUIRED_FILES\n",
    "        )\n"
   ]
  },
  {
   "cell_type": "code",
   "execution_count": 16,
   "metadata": {},
   "outputs": [],
   "source": [
    "import os\n",
    "from pathlib import Path\n",
    "\n",
    "from src.emotionClassification.logging import logger\n",
    "\n",
    "\n",
    "class DataValidation:\n",
    "    \"\"\"\n",
    "    Represents a data validation process.\n",
    "    \"\"\"\n",
    "\n",
    "    def __init__(self, config: DataValidationConfig) -> None:\n",
    "        \"\"\"\n",
    "        Initialize the DataValidation class with the given configuration.\n",
    "        \"\"\"\n",
    "        self.config = config\n",
    "\n",
    "    def validate_all_required_files_exist(self) -> bool:\n",
    "        \"\"\"\n",
    "        Validate that all required files exist in the specified root directory.\n",
    "        \"\"\"\n",
    "        try: \n",
    "            VAL_STATUS = True\n",
    "            if os.path.exists(self.config.data_ingestion_dir):\n",
    "                list_of_files = os.listdir(self.config.data_ingestion_dir)\n",
    "            else:\n",
    "                logger.error(f\"{self.config.data_ingestion_dir} does not exist.\")\n",
    "                VAL_STATUS = False\n",
    "                with open(self.config.STATUS_FILE, 'w') as status_file:\n",
    "                    status_file.write(f\"{VAL_STATUS}\")\n",
    "                return VAL_STATUS\n",
    "            \n",
    "            for file in self.config.REQUIRED_FILES:\n",
    "                if file not in list_of_files:\n",
    "                    logger.error(f\"Required file {file} not found in {self.config.data_ingestion_dir}\")\n",
    "                    VAL_STATUS = False\n",
    "                    with open(self.config.STATUS_FILE, 'w') as status_file:\n",
    "                        status_file.write(f\"{VAL_STATUS}\")\n",
    "                    return VAL_STATUS\n",
    "            \n",
    "            with open(self.config.STATUS_FILE, 'w') as status_file:\n",
    "                status_file.write(f\"{VAL_STATUS}\")\n",
    "                \n",
    "            return VAL_STATUS\n",
    "        except Exception as e:\n",
    "            logger.exception(f\"Error occurred during data validation: {e}\")\n",
    "            VAL_STATUS = False\n",
    "            return VAL_STATUS"
   ]
  },
  {
   "cell_type": "code",
   "execution_count": 17,
   "metadata": {},
   "outputs": [],
   "source": [
    "class DataValidationTrainingPipeline:\n",
    "\n",
    "    def __init__(self) -> None:\n",
    "        \"\"\"Initialize the pipeline\"\"\"\n",
    "        pass\n",
    "\n",
    "    def main(self) -> bool:\n",
    "        \"\"\"Execute the pipeline\"\"\"\n",
    "\n",
    "        config = ConfigurationManager()\n",
    "        data_validation_config = config.get_data_validation_config()\n",
    "\n",
    "        data_validation = DataValidation(config=data_validation_config)\n",
    "        val_status = data_validation.validate_all_required_files_exist()\n",
    "        print(f\"Validation Status: {val_status}\")\n",
    "\n",
    "        return val_status\n"
   ]
  },
  {
   "cell_type": "code",
   "execution_count": 19,
   "metadata": {},
   "outputs": [
    {
     "name": "stdout",
     "output_type": "stream",
     "text": [
      "[2024-08-29 15:46:13,797: INFO: 3615634054: >>>> Stage Data Validation Started <<<<]\n",
      "[2024-08-29 15:46:13,800: INFO: common: YAML file config\\config.yaml loaded successfully!]\n",
      "[2024-08-29 15:46:13,805: INFO: common: YAML file params.yaml loaded successfully!]\n",
      "[2024-08-29 15:46:13,810: INFO: common: Directory artifacts already exists!]\n",
      "[2024-08-29 15:46:13,812: INFO: common: Directory artifacts/data_validation already exists!]\n",
      "Validation Status: True\n",
      "[2024-08-29 15:46:13,815: INFO: 3615634054: >>>> Stage Data Validation Completed Successfully <<<<]\n"
     ]
    }
   ],
   "source": [
    "from src.emotionClassification.logging import logger\n",
    "\n",
    "STAGE_NAME = \"Data Validation\"\n",
    "\n",
    "try:\n",
    "    logger.info(f\">>>> Stage {STAGE_NAME} Started <<<<\")\n",
    "    data_validation = DataValidationTrainingPipeline()\n",
    "    val_status = data_validation.main()\n",
    "    if val_status:\n",
    "        logger.info(f\">>>> Stage {STAGE_NAME} Completed Successfully <<<<\")\n",
    "    else:\n",
    "        logger.error(f\">>>> Stage {STAGE_NAME} Failed <<<<\")\n",
    "except Exception as e:\n",
    "    logger.exception(e)\n",
    "    raise e\n"
   ]
  }
 ],
 "metadata": {
  "kernelspec": {
   "display_name": "ec_venv",
   "language": "python",
   "name": "python3"
  },
  "language_info": {
   "codemirror_mode": {
    "name": "ipython",
    "version": 3
   },
   "file_extension": ".py",
   "mimetype": "text/x-python",
   "name": "python",
   "nbconvert_exporter": "python",
   "pygments_lexer": "ipython3",
   "version": "3.11.4"
  }
 },
 "nbformat": 4,
 "nbformat_minor": 2
}
