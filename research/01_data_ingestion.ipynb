{
 "cells": [
  {
   "cell_type": "code",
   "execution_count": 1,
   "metadata": {},
   "outputs": [
    {
     "data": {
      "text/plain": [
       "'f:\\\\GitHub\\\\NLP-Emotion-Classification-End-to-End-Project\\\\NLP-Emotion-Classification-End-to-End-Project\\\\research'"
      ]
     },
     "execution_count": 1,
     "metadata": {},
     "output_type": "execute_result"
    }
   ],
   "source": [
    "%pwd"
   ]
  },
  {
   "cell_type": "code",
   "execution_count": 2,
   "metadata": {},
   "outputs": [
    {
     "data": {
      "text/plain": [
       "'f:\\\\GitHub\\\\NLP-Emotion-Classification-End-to-End-Project\\\\NLP-Emotion-Classification-End-to-End-Project'"
      ]
     },
     "execution_count": 2,
     "metadata": {},
     "output_type": "execute_result"
    }
   ],
   "source": [
    "import os\n",
    "os.chdir(\"../\")\n",
    "%pwd"
   ]
  },
  {
   "cell_type": "code",
   "execution_count": 3,
   "metadata": {},
   "outputs": [],
   "source": [
    "from dataclasses import dataclass\n",
    "from pathlib import Path\n",
    "\n",
    "\n",
    "@dataclass(frozen=True)\n",
    "class DataIngestionConfig:\n",
    "    root_dir: Path\n",
    "    source_url: str\n",
    "    local_data_file: Path\n",
    "    extract_dir: Path"
   ]
  },
  {
   "cell_type": "code",
   "execution_count": 4,
   "metadata": {},
   "outputs": [],
   "source": [
    "from pathlib import Path\n",
    "\n",
    "from src.emotionClassification.constants import *\n",
    "from src.emotionClassification.utils.common import read_yaml_file, create_directories\n",
    "# from src.emotionClassification.entity import DataIngestionConfig\n",
    "\n",
    "\n",
    "class ConfigurationManager:\n",
    "    \"\"\"\n",
    "    Class to manage the configuration parameters and initialize configurations.\n",
    "    \"\"\"\n",
    "\n",
    "    def __init__(\n",
    "        self,\n",
    "        config_file_path: Path = CONFIG_FILE_PATH,\n",
    "        params_file_path: Path = PARAMS_FILE_PATH,\n",
    "    ) -> None:\n",
    "        \"\"\"\n",
    "        Initialize the ConfigurationManager with the provided file paths.\n",
    "        \"\"\"\n",
    "\n",
    "        self.config = read_yaml_file(config_file_path)\n",
    "        self.params = read_yaml_file(params_file_path)\n",
    "\n",
    "        create_directories(filepath_list=[self.config.artifacts_root])\n",
    "\n",
    "    def get_data_ingestion_config(self) -> DataIngestionConfig:\n",
    "        \"\"\"\n",
    "        Return the DataIngestionConfig object initialized with the configuration parameters.\n",
    "        \"\"\"\n",
    "        config = self.config.data_ingestion\n",
    "\n",
    "        create_directories([config.root_dir, config.local_data_file])\n",
    "\n",
    "        return DataIngestionConfig(\n",
    "            root_dir=config.root_dir,\n",
    "            source_url=config.source_url,\n",
    "            local_data_file=config.local_data_file,\n",
    "            extract_dir=config.extract_dir,\n",
    "        )\n"
   ]
  },
  {
   "cell_type": "code",
   "execution_count": 5,
   "metadata": {},
   "outputs": [
    {
     "name": "stderr",
     "output_type": "stream",
     "text": [
      "f:\\GitHub\\NLP-Emotion-Classification-End-to-End-Project\\NLP-Emotion-Classification-End-to-End-Project\\ec_venv\\Lib\\site-packages\\tqdm\\auto.py:21: TqdmWarning: IProgress not found. Please update jupyter and ipywidgets. See https://ipywidgets.readthedocs.io/en/stable/user_install.html\n",
      "  from .autonotebook import tqdm as notebook_tqdm\n"
     ]
    }
   ],
   "source": [
    "import os\n",
    "\n",
    "from datasets import load_dataset\n",
    "\n",
    "# from src.emotionClassification.entity import DataIngestionConfig\n",
    "from src.emotionClassification.logging import logger\n",
    "from src.emotionClassification.utils.common import get_directory_size\n",
    "\n",
    "\n",
    "class DataIngestion:\n",
    "    \"\"\"\n",
    "    Represents a data ingestion process.\n",
    "    \"\"\"\n",
    "\n",
    "    def __init__(self, config: DataIngestionConfig) -> None:\n",
    "        \"\"\"\n",
    "        Initialize the DataIngestion class with the given configuration.\n",
    "        \"\"\"\n",
    "        self.config = config\n",
    "\n",
    "    def download_data(self) -> None:\n",
    "        \"\"\"\n",
    "        Download the data specified in the configuration.\n",
    "        \"\"\"\n",
    "        print(f\"Downloading data from {self.config.source_url}\")\n",
    "\n",
    "        local_file = self.config.local_data_file\n",
    "        print(f\"Size of {local_file} is {os.path.getsize(local_file)}\")\n",
    "        if get_directory_size(local_file) == 0:\n",
    "\n",
    "            ds = load_dataset(\n",
    "                self.config.source_url, \"subtask5.english\", trust_remote_code=True\n",
    "            )\n",
    "\n",
    "            # Save the dataset to a local file\n",
    "            ds.save_to_disk(local_file)\n",
    "\n",
    "            print(f\"File downloaded successfully as {local_file}\")\n",
    "            logger.info(f\"Downloaded {local_file}\")\n",
    "        else:\n",
    "            logger.info(\n",
    "                f\"Data file {local_file} already exists with size {get_directory_size(local_file)}\"\n",
    "            )\n"
   ]
  },
  {
   "cell_type": "code",
   "execution_count": 6,
   "metadata": {},
   "outputs": [],
   "source": [
    "# from src.emotionClassification.config.configuration import ConfigurationManager\n",
    "# from src.emotionClassification.components.data_ingestion import DataIngestion\n",
    "\n",
    "\n",
    "class DataIngestionTrainingPipeline:\n",
    "\n",
    "    def __init__(self) -> None:\n",
    "        \"\"\"Initialize the pipeline\"\"\"\n",
    "        pass\n",
    "\n",
    "    def main(self) -> None:\n",
    "        \"\"\"Execute the pipeline\"\"\"\n",
    "\n",
    "        config = ConfigurationManager()\n",
    "        data_ingestion_config = config.get_data_ingestion_config()\n",
    "\n",
    "        data_ingestion = DataIngestion(config=data_ingestion_config)\n",
    "        data_ingestion.download_data()\n"
   ]
  },
  {
   "cell_type": "code",
   "execution_count": 7,
   "metadata": {},
   "outputs": [
    {
     "name": "stdout",
     "output_type": "stream",
     "text": [
      "[2024-08-29 14:46:38,656: INFO: 3148584053: >>>> Stage Data Ingestion Started <<<<]\n",
      "[2024-08-29 14:46:38,662: INFO: common: YAML file config\\config.yaml loaded successfully!]\n",
      "[2024-08-29 14:46:38,668: INFO: common: YAML file params.yaml loaded successfully!]\n",
      "[2024-08-29 14:46:38,671: INFO: common: Directory artifacts created successfully!]\n",
      "[2024-08-29 14:46:38,697: INFO: common: Directory artifacts/data_ingestion created successfully!]\n",
      "[2024-08-29 14:46:38,702: INFO: common: Directory artifacts/data_ingestion/sem_eval_2018_task_1 created successfully!]\n",
      "Downloading data from SemEvalWorkshop/sem_eval_2018_task_1\n",
      "Size of artifacts/data_ingestion/sem_eval_2018_task_1 is 0\n"
     ]
    },
    {
     "name": "stderr",
     "output_type": "stream",
     "text": [
      "Saving the dataset (1/1 shards): 100%|██████████| 6838/6838 [00:00<00:00, 119142.31 examples/s]\n",
      "Saving the dataset (1/1 shards): 100%|██████████| 3259/3259 [00:00<00:00, 98281.15 examples/s] \n",
      "Saving the dataset (1/1 shards): 100%|██████████| 886/886 [00:00<00:00, 49223.18 examples/s]"
     ]
    },
    {
     "name": "stdout",
     "output_type": "stream",
     "text": [
      "File downloaded successfully as artifacts/data_ingestion/sem_eval_2018_task_1\n",
      "[2024-08-29 14:46:42,357: INFO: 723864665: Downloaded artifacts/data_ingestion/sem_eval_2018_task_1]\n",
      "[2024-08-29 14:46:42,359: INFO: 3148584053: >>>> Stage Data Ingestion Completed Successfully <<<<]\n"
     ]
    },
    {
     "name": "stderr",
     "output_type": "stream",
     "text": [
      "\n"
     ]
    }
   ],
   "source": [
    "from src.emotionClassification.logging import logger\n",
    "# from src.emotionClassification.pipeline.stage_01_data_ingestion import (\n",
    "#     DataIngestionTrainingPipeline,\n",
    "# )\n",
    "\n",
    "STAGE_NAME = \"Data Ingestion\"\n",
    "\n",
    "try:\n",
    "    logger.info(f\">>>> Stage {STAGE_NAME} Started <<<<\")\n",
    "    data_ingestion = DataIngestionTrainingPipeline()\n",
    "    data_ingestion.main()\n",
    "    logger.info(f\">>>> Stage {STAGE_NAME} Completed Successfully <<<<\")\n",
    "except Exception as e:\n",
    "    logger.exception(e)\n",
    "    raise e\n"
   ]
  }
 ],
 "metadata": {
  "kernelspec": {
   "display_name": "ec_venv",
   "language": "python",
   "name": "python3"
  },
  "language_info": {
   "codemirror_mode": {
    "name": "ipython",
    "version": 3
   },
   "file_extension": ".py",
   "mimetype": "text/x-python",
   "name": "python",
   "nbconvert_exporter": "python",
   "pygments_lexer": "ipython3",
   "version": "3.11.4"
  }
 },
 "nbformat": 4,
 "nbformat_minor": 2
}
