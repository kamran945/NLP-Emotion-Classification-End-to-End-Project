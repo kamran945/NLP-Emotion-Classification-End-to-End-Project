{
 "cells": [
  {
   "cell_type": "code",
   "execution_count": 1,
   "metadata": {},
   "outputs": [
    {
     "data": {
      "text/plain": [
       "'f:\\\\GitHub\\\\NLP-Emotion-Classification-End-to-End-Project\\\\NLP-Emotion-Classification-End-to-End-Project\\\\research'"
      ]
     },
     "execution_count": 1,
     "metadata": {},
     "output_type": "execute_result"
    }
   ],
   "source": [
    "%pwd"
   ]
  },
  {
   "cell_type": "code",
   "execution_count": 2,
   "metadata": {},
   "outputs": [
    {
     "data": {
      "text/plain": [
       "'f:\\\\GitHub\\\\NLP-Emotion-Classification-End-to-End-Project\\\\NLP-Emotion-Classification-End-to-End-Project'"
      ]
     },
     "execution_count": 2,
     "metadata": {},
     "output_type": "execute_result"
    }
   ],
   "source": [
    "import os\n",
    "os.chdir(\"../\")\n",
    "%pwd"
   ]
  },
  {
   "cell_type": "code",
   "execution_count": 20,
   "metadata": {},
   "outputs": [],
   "source": [
    "from dataclasses import dataclass\n",
    "from pathlib import Path\n",
    "\n",
    "\n",
    "@dataclass(frozen=True)\n",
    "class DataTransformationConfig:\n",
    "    root_dir: Path\n",
    "    data_cleaned_dir: Path\n",
    "    transformation_dir: Path"
   ]
  },
  {
   "cell_type": "code",
   "execution_count": 21,
   "metadata": {},
   "outputs": [],
   "source": [
    "from pathlib import Path\n",
    "\n",
    "from src.emotionClassification.constants import *\n",
    "from src.emotionClassification.utils.common import read_yaml_file, create_directories\n",
    "\n",
    "\n",
    "class ConfigurationManager:\n",
    "    \"\"\"\n",
    "    Class to manage the configuration parameters and initialize configurations.\n",
    "    \"\"\"\n",
    "\n",
    "    def __init__(\n",
    "        self,\n",
    "        config_file_path: Path = CONFIG_FILE_PATH,\n",
    "        params_file_path: Path = PARAMS_FILE_PATH,\n",
    "    ) -> None:\n",
    "        \"\"\"\n",
    "        Initialize the ConfigurationManager with the provided file paths.\n",
    "        \"\"\"\n",
    "\n",
    "        self.config = read_yaml_file(config_file_path)\n",
    "        self.params = read_yaml_file(params_file_path)\n",
    "\n",
    "        create_directories(filepath_list=[self.config.artifacts_root])\n",
    "\n",
    "    def get_data_transformation_config_and_params(self) -> DataTransformationConfig:\n",
    "        \"\"\"\n",
    "        Return the DataTransormationConfig object initialized with the configuration parameters.\n",
    "        \"\"\"\n",
    "        config = self.config.data_transformation\n",
    "\n",
    "        create_directories([config.root_dir, config.transformation_dir])\n",
    "\n",
    "        return DataTransformationConfig(\n",
    "            root_dir=config.root_dir,\n",
    "            data_cleaned_dir=config.data_cleaned_dir,\n",
    "            transformation_dir=config.transformation_dir,\n",
    "        ), self.params.model_params\n"
   ]
  },
  {
   "cell_type": "code",
   "execution_count": 28,
   "metadata": {},
   "outputs": [],
   "source": [
    "from box import ConfigBox\n",
    "\n",
    "\n",
    "from datasets import load_from_disk\n",
    "from transformers import AutoTokenizer\n",
    "import datasets\n",
    "\n",
    "from src.emotionClassification.logging import logger\n",
    "from src.emotionClassification.entity import DataTransformationConfig\n",
    "\n",
    "\n",
    "class DataTransformation:\n",
    "    \"\"\"\n",
    "    Represents a data transformation process.\n",
    "    \"\"\"\n",
    "\n",
    "    def __init__(self, config: DataTransformationConfig, params: ConfigBox) -> None:\n",
    "        \"\"\"\n",
    "        Initialize the DataTransformation class with the given configuration.\n",
    "        \"\"\"\n",
    "        self.config = config\n",
    "        self.params = params\n",
    "        self.tokenizer = AutoTokenizer.from_pretrained(params.model_checkpoint)\n",
    "        self.class_labels = params.labels\n",
    "\n",
    "    def tokenize(self, batch: datasets.Dataset) -> datasets.Dataset:\n",
    "        \"\"\"\n",
    "        Tokenizes the text data in the input batch and adds the corresponding emotion labels.\n",
    "        Args:\n",
    "            batch: Input batch containing the text data and emotion labels.\n",
    "        Returns:\n",
    "            The input batch with tokenized text and emotion labels.\n",
    "        \"\"\"\n",
    "\n",
    "        labels = [int(batch[label]) for label in self.class_labels]\n",
    "\n",
    "        # Tokenize the text\n",
    "        tokens = self.tokenizer(batch[\"Tweet\"], padding=True, truncation=True)\n",
    "\n",
    "        # Add the formatted labels to the tokenized output\n",
    "        tokens.update({\"labels\": labels})\n",
    "\n",
    "        return tokens\n",
    "\n",
    "    def save_and_return_transformed_data(self) -> dict:\n",
    "        \"\"\"\n",
    "        Save the transformed data to disk.\n",
    "        \"\"\"\n",
    "        loaded_data = load_from_disk(self.config.data_cleaned_dir)\n",
    "        transformed_data = loaded_data.map(self.tokenize, batched=False).remove_columns(\n",
    "            [\"ID\", \"Tweet\"] + self.class_labels\n",
    "        )\n",
    "\n",
    "        transformed_data.save_to_disk(self.config.transformation_dir)\n",
    "\n",
    "        return transformed_data\n"
   ]
  },
  {
   "cell_type": "code",
   "execution_count": 29,
   "metadata": {},
   "outputs": [],
   "source": [
    "class DataTransformationPipeline:\n",
    "\n",
    "    def __init__(self) -> None:\n",
    "        \"\"\"Initialize the pipeline\"\"\"\n",
    "        pass\n",
    "\n",
    "    def main(self) -> dict:\n",
    "        \"\"\"Execute the pipeline\"\"\"\n",
    "\n",
    "        config = ConfigurationManager()\n",
    "        data_transformation_config, data_transformation_params = config.get_data_transformation_config_and_params()\n",
    "\n",
    "        data_transformation = DataTransformation(config=data_transformation_config, \n",
    "                                           params=data_transformation_params)\n",
    "        transformed_data = data_transformation.save_and_return_transformed_data()\n",
    "\n",
    "        return transformed_data\n"
   ]
  },
  {
   "cell_type": "code",
   "execution_count": 30,
   "metadata": {},
   "outputs": [
    {
     "name": "stdout",
     "output_type": "stream",
     "text": [
      "[2024-08-31 10:50:24,581: INFO: 1067048094: >>>> Stage Data Transformation Started <<<<]\n",
      "[2024-08-31 10:50:24,591: INFO: common: YAML file config\\config.yaml loaded successfully!]\n",
      "[2024-08-31 10:50:24,596: INFO: common: YAML file params.yaml loaded successfully!]\n",
      "[2024-08-31 10:50:24,598: INFO: common: Directory artifacts already exists!]\n",
      "[2024-08-31 10:50:24,598: INFO: common: Directory artifacts/data_transformation already exists!]\n",
      "[2024-08-31 10:50:24,603: INFO: common: Directory artifacts/data_transformation/sem_eval_2018_task_1 already exists!]\n"
     ]
    },
    {
     "name": "stderr",
     "output_type": "stream",
     "text": [
      "Map: 100%|██████████| 6838/6838 [00:05<00:00, 1339.70 examples/s]\n",
      "Map: 100%|██████████| 3259/3259 [00:01<00:00, 1714.44 examples/s]\n",
      "Map: 100%|██████████| 886/886 [00:00<00:00, 1146.85 examples/s]\n",
      "Saving the dataset (1/1 shards): 100%|██████████| 6838/6838 [00:00<00:00, 225133.45 examples/s]\n",
      "Saving the dataset (1/1 shards): 100%|██████████| 3259/3259 [00:00<00:00, 315373.57 examples/s]\n",
      "Saving the dataset (1/1 shards): 100%|██████████| 886/886 [00:00<00:00, 75921.98 examples/s] "
     ]
    },
    {
     "name": "stdout",
     "output_type": "stream",
     "text": [
      "[2024-08-31 10:50:33,143: INFO: 1067048094: >>>> Stage Data Transformation Completed Successfully <<<<]\n"
     ]
    },
    {
     "name": "stderr",
     "output_type": "stream",
     "text": [
      "\n"
     ]
    }
   ],
   "source": [
    "from src.emotionClassification.logging import logger\n",
    "\n",
    "STAGE_NAME = \"Data Transformation\"\n",
    "\n",
    "try:\n",
    "    logger.info(f\">>>> Stage {STAGE_NAME} Started <<<<\")\n",
    "    data_transformtion = DataTransformationPipeline()\n",
    "    transformed_data = data_transformtion.main()\n",
    "    logger.info(f\">>>> Stage {STAGE_NAME} Completed Successfully <<<<\")\n",
    "except Exception as e:\n",
    "    logger.error(f\">>>> Stage {STAGE_NAME} Failed <<<<\")\n",
    "    logger.exception(e)\n",
    "    raise e\n"
   ]
  }
 ],
 "metadata": {
  "kernelspec": {
   "display_name": "ec_venv",
   "language": "python",
   "name": "python3"
  },
  "language_info": {
   "codemirror_mode": {
    "name": "ipython",
    "version": 3
   },
   "file_extension": ".py",
   "mimetype": "text/x-python",
   "name": "python",
   "nbconvert_exporter": "python",
   "pygments_lexer": "ipython3",
   "version": "3.11.4"
  }
 },
 "nbformat": 4,
 "nbformat_minor": 2
}
